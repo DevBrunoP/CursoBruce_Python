{
 "cells": [
  {
   "cell_type": "markdown",
   "metadata": {},
   "source": [
    "# 07. Funções"
   ]
  },
  {
   "cell_type": "markdown",
   "metadata": {},
   "source": [
    "## 08. Criando funções - Parte 1"
   ]
  },
  {
   "cell_type": "markdown",
   "metadata": {},
   "source": [
    " - Código da aula"
   ]
  },
  {
   "cell_type": "code",
   "execution_count": 1,
   "metadata": {},
   "outputs": [],
   "source": [
    "#Criando um dicionário com preços de manutenção\n",
    "precos_manutencao = {\n",
    "    \"Troca de óleo\": 50,\n",
    "    \"Filtro de ar\": 20,\n",
    "    \"Pastilhas de freio\": 80,\n",
    "    \"Bateria\": 100,\n",
    "    \"Alinhamento\": 60\n",
    "}"
   ]
  },
  {
   "cell_type": "code",
   "execution_count": 2,
   "metadata": {},
   "outputs": [],
   "source": [
    "#Criando um dicionário com tempo de manutenção\n",
    "tempo_manutencao = {\n",
    "    \"Troca de óleo\": 30,\n",
    "    \"Filtro de Ar\": 15,\n",
    "    \"Pastilhas de freio\": 45,\n",
    "    \"Bateria\": 60,\n",
    "    \"Alinhamento\": 40\n",
    "}"
   ]
  },
  {
   "cell_type": "code",
   "execution_count": 3,
   "metadata": {},
   "outputs": [
    {
     "name": "stdout",
     "output_type": "stream",
     "text": [
      "140\n"
     ]
    }
   ],
   "source": [
    "pedido_servico = [\"Pastilhas de freio\", \"Alinhamento\"]\n",
    "\n",
    "def calcular_preco_pedido_manutencao(pedido_servico): \n",
    "    preco_total = 0 \n",
    "\n",
    "    for item, preco in precos_manutencao.items():\n",
    "        if item in pedido_servico:\n",
    "            preco_total += preco\n",
    "    return preco_total\n",
    "\n",
    "total = calcular_preco_pedido_manutencao(pedido_servico)\n",
    "print(total)"
   ]
  },
  {
   "cell_type": "markdown",
   "metadata": {},
   "source": [
    "- Código da aula comentado e com algumas pequenas melhorias"
   ]
  },
  {
   "cell_type": "code",
   "execution_count": 4,
   "metadata": {},
   "outputs": [
    {
     "name": "stdout",
     "output_type": "stream",
     "text": [
      "140\n"
     ]
    }
   ],
   "source": [
    "pedido_servico = [\"Pastilhas de freio\", \"Alinhamento\"]\n",
    "\n",
    "def calcular_preco_pedido_manutencao(pedido_servico: list) -> float: # Função que calcula o preço total dos itens encontrados na lista pedido_servico\n",
    "    preco_total = 0 # Armazenará o preço total dos pedidos, inicia zerado\n",
    "\n",
    "    for item, preco in precos_manutencao.items(): # Iterando sobre os itens do dict precos_manutencao e acessando tanto a chave quando o valor\n",
    "        if item in pedido_servico: # A chave que está iterando está contida dentro da lista pedido_servico?\n",
    "            preco_total += preco # Se sim, soma o preco_total com o preco que está foi encontrado na iteração\n",
    "    return preco_total # Função retorna a soma de todos os itens pedidos da variável pedido_servico\n",
    "\n",
    "total = calcular_preco_pedido_manutencao(pedido_servico)\n",
    "print(total)"
   ]
  },
  {
   "cell_type": "markdown",
   "metadata": {},
   "source": [
    "- Minha solução reformulada!"
   ]
  },
  {
   "cell_type": "code",
   "execution_count": 5,
   "metadata": {},
   "outputs": [
    {
     "name": "stdout",
     "output_type": "stream",
     "text": [
      "140\n"
     ]
    }
   ],
   "source": [
    "pedido_servico = [\"Pastilhas de freio\", \"Alinhamento\"]\n",
    "\n",
    "print(sum(map(lambda x: precos_manutencao.get(x), pedido_servico)))"
   ]
  },
  {
   "cell_type": "markdown",
   "metadata": {},
   "source": [
    "## 09. Criando funções - Parte 2"
   ]
  },
  {
   "cell_type": "markdown",
   "metadata": {},
   "source": [
    "- Código da aula"
   ]
  },
  {
   "cell_type": "code",
   "execution_count": 7,
   "metadata": {},
   "outputs": [
    {
     "name": "stdout",
     "output_type": "stream",
     "text": [
      "90\n"
     ]
    }
   ],
   "source": [
    "pedido_servico = [\"Troca de óleo\", \"Bateria\"]\n",
    "\n",
    "\n",
    "def calcular_tempo_pedido_manutencao(pedido_servico):\n",
    "    tempo_total = 0\n",
    "    \n",
    "    for item, tempo in tempo_manutencao.items():\n",
    "        if item in pedido_servico:\n",
    "            tempo_total += tempo\n",
    "    return tempo_total\n",
    "\n",
    "print(calcular_tempo_pedido_manutencao(pedido_servico))"
   ]
  },
  {
   "cell_type": "markdown",
   "metadata": {},
   "source": [
    "- Código comentado e com algumas pequenas melhorias"
   ]
  },
  {
   "cell_type": "code",
   "execution_count": 7,
   "metadata": {},
   "outputs": [
    {
     "name": "stdout",
     "output_type": "stream",
     "text": [
      "90\n"
     ]
    }
   ],
   "source": [
    "pedido_servico = [\"Troca de óleo\", \"Bateria\"]\n",
    "\n",
    "\n",
    "def calcular_tempo_pedido_manutencao(pedido_servico: list) -> float:\n",
    "    tempo_total = 0 # Armazenará o tempo total da manutenção, inicia zerado\n",
    "    \n",
    "    for item, tempo in tempo_manutencao.items(): # Iterando sobre os itens do dict tempo_manutencao e acessando tanto a chave quando o valor\n",
    "        if item in pedido_servico: # A chave que está iterando está contida dentro da lista pedido_servico?\n",
    "            tempo_total += tempo # Se sim, soma o tempo_total com o tempo que está foi encontrado na iteração\n",
    "    return tempo_total # Função retorna a soma de todos os tempos de manutenção da variável pedido_servico \n",
    "\n",
    "print(calcular_tempo_pedido_manutencao(pedido_servico))"
   ]
  },
  {
   "cell_type": "markdown",
   "metadata": {},
   "source": [
    "- Minha solução reformulada!"
   ]
  },
  {
   "cell_type": "code",
   "execution_count": 8,
   "metadata": {},
   "outputs": [
    {
     "name": "stdout",
     "output_type": "stream",
     "text": [
      "90\n"
     ]
    }
   ],
   "source": [
    "print(sum(map(lambda x: tempo_manutencao.get(x), pedido_servico)))"
   ]
  },
  {
   "cell_type": "markdown",
   "metadata": {},
   "source": [
    "## 10. Criando funções - parte 3"
   ]
  },
  {
   "cell_type": "markdown",
   "metadata": {},
   "source": [
    "- Código da aula"
   ]
  },
  {
   "cell_type": "code",
   "execution_count": 9,
   "metadata": {},
   "outputs": [
    {
     "name": "stdout",
     "output_type": "stream",
     "text": [
      "BRUCE_CAR AUTO CENTER\n",
      "-------------------------------------\n",
      "Itens de manutenção:\n",
      "Troca de óleo = R$ 50 +- 30 min.\n",
      "Bateria = R$ 100 +- 60 min.\n",
      "-------------------------------------\n",
      "Valor total = R$ 150\n",
      "Tempo total = 90 min\n"
     ]
    }
   ],
   "source": [
    "#Função principal para fazer o pedido de manutenção\n",
    "\n",
    "pedido_servico = [\"Troca de óleo\", \"Bateria\"]\n",
    "\n",
    "custo_total = calcular_preco_pedido_manutencao(pedido_servico)\n",
    "tempo_total = calcular_tempo_pedido_manutencao(pedido_servico)\n",
    "\n",
    "print(\"BRUCE_CAR AUTO CENTER\")\n",
    "print(\"-------------------------------------\")\n",
    "print(\"Itens de manutenção:\")\n",
    "for item in pedido_servico:\n",
    "    print(f\"{item} = R$ {precos_manutencao[item]} +- {tempo_manutencao[item]} min.\")\n",
    "print(\"-------------------------------------\")\n",
    "print(f\"Valor total = R$ {custo_total}\")\n",
    "print(f\"Tempo total = {tempo_total} min\")"
   ]
  },
  {
   "cell_type": "markdown",
   "metadata": {},
   "source": [
    "- Código comentado e com algumas pequenas melhorias"
   ]
  },
  {
   "cell_type": "code",
   "execution_count": 10,
   "metadata": {},
   "outputs": [
    {
     "name": "stdout",
     "output_type": "stream",
     "text": [
      "BRUCE_CAR AUTO CENTER\n",
      "-------------------------------------\n",
      "Itens de manutenção:\n",
      "Troca de óleo = R$ 50 +- 30 min.\n",
      "Bateria = R$ 100 +- 60 min.\n",
      "-------------------------------------\n",
      "Valor total = R$ 150\n",
      "Tempo total = 90 minutos\n"
     ]
    }
   ],
   "source": [
    "#Função principal para fazer o pedido de manutenção\n",
    "\n",
    "pedido_servico = [\"Troca de óleo\", \"Bateria\"]\n",
    "\n",
    "custo_total = calcular_preco_pedido_manutencao(pedido_servico) # Amazena o retorna da função em uma variável\n",
    "tempo_total = calcular_tempo_pedido_manutencao(pedido_servico) # Amazena o retorna da função em uma variável\n",
    "\n",
    "print(\"BRUCE_CAR AUTO CENTER\")\n",
    "print(\"-------------------------------------\")\n",
    "print(\"Itens de manutenção:\")\n",
    "for item in pedido_servico: # Itera sobre cada par chave/valor de dentro da lista pedido_servico\n",
    "    print(f\"{item} = R$ {precos_manutencao[item]} +- {tempo_manutencao[item]} min.\") # Imprime os valor iretados formatando as variáveis com fstring\n",
    "print(\"-------------------------------------\")\n",
    "print(f\"Valor total = R$ {custo_total}\")\n",
    "print(f\"Tempo total = {tempo_total} minutos\")"
   ]
  },
  {
   "cell_type": "markdown",
   "metadata": {},
   "source": [
    "- Minha solução reformulada!"
   ]
  },
  {
   "cell_type": "code",
   "execution_count": null,
   "metadata": {},
   "outputs": [],
   "source": [
    "..."
   ]
  }
 ],
 "metadata": {
  "kernelspec": {
   "display_name": "venv",
   "language": "python",
   "name": "python3"
  },
  "language_info": {
   "codemirror_mode": {
    "name": "ipython",
    "version": 3
   },
   "file_extension": ".py",
   "mimetype": "text/x-python",
   "name": "python",
   "nbconvert_exporter": "python",
   "pygments_lexer": "ipython3",
   "version": "3.11.5"
  }
 },
 "nbformat": 4,
 "nbformat_minor": 2
}
